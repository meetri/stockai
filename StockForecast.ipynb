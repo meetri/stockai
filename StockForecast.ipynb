{
 "cells": [
  {
   "cell_type": "code",
   "execution_count": 1,
   "id": "578b2ce3-d92a-472d-ab76-73102ce4c5a1",
   "metadata": {
    "tags": []
   },
   "outputs": [],
   "source": [
    "import pandas as pd\n",
    "\n",
    "from lib.torch_helper import (\n",
    "    StockTrainer, get_stock_data\n",
    ")"
   ]
  },
  {
   "cell_type": "code",
   "execution_count": 2,
   "id": "1504d32d-170a-4900-a32e-fff3677c494b",
   "metadata": {
    "tags": []
   },
   "outputs": [
    {
     "data": {
      "text/html": [
       "<div>\n",
       "<style scoped>\n",
       "    .dataframe tbody tr th:only-of-type {\n",
       "        vertical-align: middle;\n",
       "    }\n",
       "\n",
       "    .dataframe tbody tr th {\n",
       "        vertical-align: top;\n",
       "    }\n",
       "\n",
       "    .dataframe thead th {\n",
       "        text-align: right;\n",
       "    }\n",
       "</style>\n",
       "<table border=\"1\" class=\"dataframe\">\n",
       "  <thead>\n",
       "    <tr style=\"text-align: right;\">\n",
       "      <th></th>\n",
       "      <th>High</th>\n",
       "      <th>Low</th>\n",
       "      <th>Close</th>\n",
       "      <th>Volume</th>\n",
       "      <th>Date</th>\n",
       "      <th>Ticker</th>\n",
       "      <th>EFFR</th>\n",
       "      <th>UMCSENT</th>\n",
       "      <th>UNRATE</th>\n",
       "      <th>VIX</th>\n",
       "      <th>USDX</th>\n",
       "      <th>time_idx</th>\n",
       "      <th>ATR</th>\n",
       "      <th>RSI</th>\n",
       "      <th>MACD</th>\n",
       "    </tr>\n",
       "  </thead>\n",
       "  <tbody>\n",
       "    <tr>\n",
       "      <th>0</th>\n",
       "      <td>6.040000</td>\n",
       "      <td>5.670000</td>\n",
       "      <td>5.830000</td>\n",
       "      <td>27347200</td>\n",
       "      <td>2008-06-30</td>\n",
       "      <td>AMD</td>\n",
       "      <td>2.47</td>\n",
       "      <td>59.8</td>\n",
       "      <td>5.4</td>\n",
       "      <td>23.950001</td>\n",
       "      <td>72.459999</td>\n",
       "      <td>0</td>\n",
       "      <td>0.415000</td>\n",
       "      <td>28.321687</td>\n",
       "      <td>0.212831</td>\n",
       "    </tr>\n",
       "    <tr>\n",
       "      <th>1</th>\n",
       "      <td>5.820000</td>\n",
       "      <td>5.400000</td>\n",
       "      <td>5.650000</td>\n",
       "      <td>32866100</td>\n",
       "      <td>2008-07-01</td>\n",
       "      <td>AMD</td>\n",
       "      <td>2.11</td>\n",
       "      <td>61.2</td>\n",
       "      <td>5.8</td>\n",
       "      <td>23.650000</td>\n",
       "      <td>72.370003</td>\n",
       "      <td>1</td>\n",
       "      <td>0.415000</td>\n",
       "      <td>28.321687</td>\n",
       "      <td>0.212831</td>\n",
       "    </tr>\n",
       "    <tr>\n",
       "      <th>2</th>\n",
       "      <td>5.840000</td>\n",
       "      <td>5.420000</td>\n",
       "      <td>5.440000</td>\n",
       "      <td>24019300</td>\n",
       "      <td>2008-07-02</td>\n",
       "      <td>AMD</td>\n",
       "      <td>1.95</td>\n",
       "      <td>61.2</td>\n",
       "      <td>5.8</td>\n",
       "      <td>25.920000</td>\n",
       "      <td>72.029999</td>\n",
       "      <td>2</td>\n",
       "      <td>0.415000</td>\n",
       "      <td>28.321687</td>\n",
       "      <td>0.212831</td>\n",
       "    </tr>\n",
       "    <tr>\n",
       "      <th>3</th>\n",
       "      <td>5.550000</td>\n",
       "      <td>5.010000</td>\n",
       "      <td>5.300000</td>\n",
       "      <td>24320100</td>\n",
       "      <td>2008-07-03</td>\n",
       "      <td>AMD</td>\n",
       "      <td>1.92</td>\n",
       "      <td>61.2</td>\n",
       "      <td>5.8</td>\n",
       "      <td>24.780001</td>\n",
       "      <td>72.739998</td>\n",
       "      <td>3</td>\n",
       "      <td>0.415000</td>\n",
       "      <td>28.321687</td>\n",
       "      <td>0.212831</td>\n",
       "    </tr>\n",
       "    <tr>\n",
       "      <th>4</th>\n",
       "      <td>5.670000</td>\n",
       "      <td>5.220000</td>\n",
       "      <td>5.380000</td>\n",
       "      <td>25813600</td>\n",
       "      <td>2008-07-07</td>\n",
       "      <td>AMD</td>\n",
       "      <td>1.99</td>\n",
       "      <td>61.2</td>\n",
       "      <td>5.8</td>\n",
       "      <td>25.780001</td>\n",
       "      <td>72.669998</td>\n",
       "      <td>4</td>\n",
       "      <td>0.415000</td>\n",
       "      <td>28.321687</td>\n",
       "      <td>0.212831</td>\n",
       "    </tr>\n",
       "    <tr>\n",
       "      <th>...</th>\n",
       "      <td>...</td>\n",
       "      <td>...</td>\n",
       "      <td>...</td>\n",
       "      <td>...</td>\n",
       "      <td>...</td>\n",
       "      <td>...</td>\n",
       "      <td>...</td>\n",
       "      <td>...</td>\n",
       "      <td>...</td>\n",
       "      <td>...</td>\n",
       "      <td>...</td>\n",
       "      <td>...</td>\n",
       "      <td>...</td>\n",
       "      <td>...</td>\n",
       "      <td>...</td>\n",
       "    </tr>\n",
       "    <tr>\n",
       "      <th>7537</th>\n",
       "      <td>438.369995</td>\n",
       "      <td>435.029999</td>\n",
       "      <td>437.179993</td>\n",
       "      <td>76160400</td>\n",
       "      <td>2023-06-20</td>\n",
       "      <td>SPY</td>\n",
       "      <td>5.07</td>\n",
       "      <td>62.0</td>\n",
       "      <td>3.7</td>\n",
       "      <td>13.880000</td>\n",
       "      <td>102.540001</td>\n",
       "      <td>3766</td>\n",
       "      <td>4.525052</td>\n",
       "      <td>69.033502</td>\n",
       "      <td>1.201103</td>\n",
       "    </tr>\n",
       "    <tr>\n",
       "      <th>7538</th>\n",
       "      <td>436.989990</td>\n",
       "      <td>434.329987</td>\n",
       "      <td>434.940002</td>\n",
       "      <td>76982300</td>\n",
       "      <td>2023-06-21</td>\n",
       "      <td>SPY</td>\n",
       "      <td>5.07</td>\n",
       "      <td>62.0</td>\n",
       "      <td>3.7</td>\n",
       "      <td>13.200000</td>\n",
       "      <td>102.070000</td>\n",
       "      <td>3767</td>\n",
       "      <td>4.405406</td>\n",
       "      <td>64.644155</td>\n",
       "      <td>0.746781</td>\n",
       "    </tr>\n",
       "    <tr>\n",
       "      <th>7539</th>\n",
       "      <td>436.619995</td>\n",
       "      <td>433.600006</td>\n",
       "      <td>436.510010</td>\n",
       "      <td>70637200</td>\n",
       "      <td>2023-06-22</td>\n",
       "      <td>SPY</td>\n",
       "      <td>5.07</td>\n",
       "      <td>62.0</td>\n",
       "      <td>3.7</td>\n",
       "      <td>12.910000</td>\n",
       "      <td>102.389999</td>\n",
       "      <td>3768</td>\n",
       "      <td>4.306447</td>\n",
       "      <td>66.263289</td>\n",
       "      <td>0.469458</td>\n",
       "    </tr>\n",
       "    <tr>\n",
       "      <th>7540</th>\n",
       "      <td>435.059998</td>\n",
       "      <td>432.470001</td>\n",
       "      <td>433.209991</td>\n",
       "      <td>92028700</td>\n",
       "      <td>2023-06-23</td>\n",
       "      <td>SPY</td>\n",
       "      <td>5.07</td>\n",
       "      <td>62.0</td>\n",
       "      <td>3.7</td>\n",
       "      <td>13.440000</td>\n",
       "      <td>102.900002</td>\n",
       "      <td>3769</td>\n",
       "      <td>4.287416</td>\n",
       "      <td>60.039457</td>\n",
       "      <td>0.005748</td>\n",
       "    </tr>\n",
       "    <tr>\n",
       "      <th>7541</th>\n",
       "      <td>434.609985</td>\n",
       "      <td>431.649994</td>\n",
       "      <td>432.320007</td>\n",
       "      <td>30570570</td>\n",
       "      <td>2023-06-26</td>\n",
       "      <td>SPY</td>\n",
       "      <td>5.07</td>\n",
       "      <td>62.0</td>\n",
       "      <td>3.7</td>\n",
       "      <td>14.250000</td>\n",
       "      <td>102.690002</td>\n",
       "      <td>3770</td>\n",
       "      <td>4.192600</td>\n",
       "      <td>58.445107</td>\n",
       "      <td>-0.396688</td>\n",
       "    </tr>\n",
       "  </tbody>\n",
       "</table>\n",
       "<p>7542 rows × 15 columns</p>\n",
       "</div>"
      ],
      "text/plain": [
       "            High         Low       Close    Volume       Date Ticker  EFFR  \\\n",
       "0       6.040000    5.670000    5.830000  27347200 2008-06-30    AMD  2.47   \n",
       "1       5.820000    5.400000    5.650000  32866100 2008-07-01    AMD  2.11   \n",
       "2       5.840000    5.420000    5.440000  24019300 2008-07-02    AMD  1.95   \n",
       "3       5.550000    5.010000    5.300000  24320100 2008-07-03    AMD  1.92   \n",
       "4       5.670000    5.220000    5.380000  25813600 2008-07-07    AMD  1.99   \n",
       "...          ...         ...         ...       ...        ...    ...   ...   \n",
       "7537  438.369995  435.029999  437.179993  76160400 2023-06-20    SPY  5.07   \n",
       "7538  436.989990  434.329987  434.940002  76982300 2023-06-21    SPY  5.07   \n",
       "7539  436.619995  433.600006  436.510010  70637200 2023-06-22    SPY  5.07   \n",
       "7540  435.059998  432.470001  433.209991  92028700 2023-06-23    SPY  5.07   \n",
       "7541  434.609985  431.649994  432.320007  30570570 2023-06-26    SPY  5.07   \n",
       "\n",
       "      UMCSENT  UNRATE        VIX        USDX  time_idx       ATR        RSI  \\\n",
       "0        59.8     5.4  23.950001   72.459999         0  0.415000  28.321687   \n",
       "1        61.2     5.8  23.650000   72.370003         1  0.415000  28.321687   \n",
       "2        61.2     5.8  25.920000   72.029999         2  0.415000  28.321687   \n",
       "3        61.2     5.8  24.780001   72.739998         3  0.415000  28.321687   \n",
       "4        61.2     5.8  25.780001   72.669998         4  0.415000  28.321687   \n",
       "...       ...     ...        ...         ...       ...       ...        ...   \n",
       "7537     62.0     3.7  13.880000  102.540001      3766  4.525052  69.033502   \n",
       "7538     62.0     3.7  13.200000  102.070000      3767  4.405406  64.644155   \n",
       "7539     62.0     3.7  12.910000  102.389999      3768  4.306447  66.263289   \n",
       "7540     62.0     3.7  13.440000  102.900002      3769  4.287416  60.039457   \n",
       "7541     62.0     3.7  14.250000  102.690002      3770  4.192600  58.445107   \n",
       "\n",
       "          MACD  \n",
       "0     0.212831  \n",
       "1     0.212831  \n",
       "2     0.212831  \n",
       "3     0.212831  \n",
       "4     0.212831  \n",
       "...        ...  \n",
       "7537  1.201103  \n",
       "7538  0.746781  \n",
       "7539  0.469458  \n",
       "7540  0.005748  \n",
       "7541 -0.396688  \n",
       "\n",
       "[7542 rows x 15 columns]"
      ]
     },
     "execution_count": 2,
     "metadata": {},
     "output_type": "execute_result"
    }
   ],
   "source": [
    "# Configuration\n",
    "amd = get_stock_data(\n",
    "    \"amd\", column_filter=[\"High\", \"Low\", \"Close\", \"Volume\", \"Date\"])\n",
    "\n",
    "spy = get_stock_data(\n",
    "    \"spy\", column_filter=[\"High\", \"Low\", \"Close\", \"Volume\", \"Date\"])\n",
    "\n",
    "stock_data = pd.concat([amd, spy]).reset_index(drop=True)\n",
    "stock_data[\"Date\"] = pd.to_datetime(stock_data[\"Date\"])\n",
    "\n",
    "stock_data"
   ]
  },
  {
   "cell_type": "code",
   "execution_count": 4,
   "id": "5bbedf58-c486-49b2-8856-55877c87e5b3",
   "metadata": {
    "tags": []
   },
   "outputs": [],
   "source": [
    "trainer = StockTrainer(\n",
    "    stock_data,\n",
    "    group_id=\"Ticker\",\n",
    "    target=\"Close\",\n",
    "    train_on=[\n",
    "        # \"Imp Vol\", \"Put/Call Vol\", \"Options Vol\", \"Put/Call OI\", \"EFFR\",\n",
    "        \"UMCSENT\", \"UNRATE\", \"USDX\", \"VIX\", \"Close\", \"Volume\",\n",
    "        \"ATR\", \"RSI\", \"MACD\"\n",
    "    ],\n",
    "    batch_size=64,\n",
    "    max_epoch=50,\n",
    "    learning_rate=0.001059429134884675\n",
    ")\n",
    "trainer.create_model()"
   ]
  },
  {
   "cell_type": "code",
   "execution_count": 5,
   "id": "c0bc25ec-494a-433e-9dba-cdc0052b186b",
   "metadata": {
    "tags": []
   },
   "outputs": [
    {
     "name": "stderr",
     "output_type": "stream",
     "text": [
      "GPU available: True (mps), used: False\n",
      "TPU available: False, using: 0 TPU cores\n",
      "IPU available: False, using: 0 IPUs\n",
      "HPU available: False, using: 0 HPUs\n",
      "\n",
      "   | Name                               | Type                            | Params\n",
      "----------------------------------------------------------------------------------------\n",
      "0  | loss                               | QuantileLoss                    | 0     \n",
      "1  | logging_metrics                    | ModuleList                      | 0     \n",
      "2  | input_embeddings                   | MultiEmbedding                  | 2     \n",
      "3  | prescalers                         | ModuleDict                      | 1.8 K \n",
      "4  | static_variable_selection          | VariableSelectionNetwork        | 61.7 K\n",
      "5  | encoder_variable_selection         | VariableSelectionNetwork        | 252 K \n",
      "6  | decoder_variable_selection         | VariableSelectionNetwork        | 61.5 K\n",
      "7  | static_context_variable_selection  | GatedResidualNetwork            | 38.2 K\n",
      "8  | static_context_initial_hidden_lstm | GatedResidualNetwork            | 38.2 K\n",
      "9  | static_context_initial_cell_lstm   | GatedResidualNetwork            | 38.2 K\n",
      "10 | static_context_enrichment          | GatedResidualNetwork            | 38.2 K\n",
      "11 | lstm_encoder                       | LSTM                            | 76.0 K\n",
      "12 | lstm_decoder                       | LSTM                            | 76.0 K\n",
      "13 | post_lstm_gate_encoder             | GatedLinearUnit                 | 19.0 K\n",
      "14 | post_lstm_add_norm_encoder         | AddNorm                         | 194   \n",
      "15 | static_enrichment                  | GatedResidualNetwork            | 47.6 K\n",
      "16 | multihead_attn                     | InterpretableMultiHeadAttention | 28.2 K\n",
      "17 | post_attn_gate_norm                | GateAddNorm                     | 19.2 K\n",
      "18 | pos_wise_ff                        | GatedResidualNetwork            | 38.2 K\n",
      "19 | pre_output_gate_norm               | GateAddNorm                     | 19.2 K\n",
      "20 | output_layer                       | Linear                          | 686   \n",
      "----------------------------------------------------------------------------------------\n",
      "853 K     Trainable params\n",
      "0         Non-trainable params\n",
      "853 K     Total params\n",
      "3.412     Total estimated model params size (MB)\n"
     ]
    },
    {
     "data": {
      "application/vnd.jupyter.widget-view+json": {
       "model_id": "",
       "version_major": 2,
       "version_minor": 0
      },
      "text/plain": [
       "Sanity Checking: 0it [00:00, ?it/s]"
      ]
     },
     "metadata": {},
     "output_type": "display_data"
    },
    {
     "data": {
      "application/vnd.jupyter.widget-view+json": {
       "model_id": "1570e0454f294566a7f11d82dc0de76d",
       "version_major": 2,
       "version_minor": 0
      },
      "text/plain": [
       "Training: 0it [00:00, ?it/s]"
      ]
     },
     "metadata": {},
     "output_type": "display_data"
    },
    {
     "data": {
      "application/vnd.jupyter.widget-view+json": {
       "model_id": "",
       "version_major": 2,
       "version_minor": 0
      },
      "text/plain": [
       "Validation: 0it [00:00, ?it/s]"
      ]
     },
     "metadata": {},
     "output_type": "display_data"
    },
    {
     "data": {
      "application/vnd.jupyter.widget-view+json": {
       "model_id": "",
       "version_major": 2,
       "version_minor": 0
      },
      "text/plain": [
       "Validation: 0it [00:00, ?it/s]"
      ]
     },
     "metadata": {},
     "output_type": "display_data"
    },
    {
     "data": {
      "application/vnd.jupyter.widget-view+json": {
       "model_id": "",
       "version_major": 2,
       "version_minor": 0
      },
      "text/plain": [
       "Validation: 0it [00:00, ?it/s]"
      ]
     },
     "metadata": {},
     "output_type": "display_data"
    },
    {
     "data": {
      "application/vnd.jupyter.widget-view+json": {
       "model_id": "",
       "version_major": 2,
       "version_minor": 0
      },
      "text/plain": [
       "Validation: 0it [00:00, ?it/s]"
      ]
     },
     "metadata": {},
     "output_type": "display_data"
    },
    {
     "data": {
      "application/vnd.jupyter.widget-view+json": {
       "model_id": "",
       "version_major": 2,
       "version_minor": 0
      },
      "text/plain": [
       "Validation: 0it [00:00, ?it/s]"
      ]
     },
     "metadata": {},
     "output_type": "display_data"
    },
    {
     "data": {
      "application/vnd.jupyter.widget-view+json": {
       "model_id": "",
       "version_major": 2,
       "version_minor": 0
      },
      "text/plain": [
       "Validation: 0it [00:00, ?it/s]"
      ]
     },
     "metadata": {},
     "output_type": "display_data"
    },
    {
     "data": {
      "application/vnd.jupyter.widget-view+json": {
       "model_id": "",
       "version_major": 2,
       "version_minor": 0
      },
      "text/plain": [
       "Validation: 0it [00:00, ?it/s]"
      ]
     },
     "metadata": {},
     "output_type": "display_data"
    },
    {
     "data": {
      "application/vnd.jupyter.widget-view+json": {
       "model_id": "",
       "version_major": 2,
       "version_minor": 0
      },
      "text/plain": [
       "Validation: 0it [00:00, ?it/s]"
      ]
     },
     "metadata": {},
     "output_type": "display_data"
    },
    {
     "data": {
      "application/vnd.jupyter.widget-view+json": {
       "model_id": "",
       "version_major": 2,
       "version_minor": 0
      },
      "text/plain": [
       "Validation: 0it [00:00, ?it/s]"
      ]
     },
     "metadata": {},
     "output_type": "display_data"
    },
    {
     "data": {
      "application/vnd.jupyter.widget-view+json": {
       "model_id": "",
       "version_major": 2,
       "version_minor": 0
      },
      "text/plain": [
       "Validation: 0it [00:00, ?it/s]"
      ]
     },
     "metadata": {},
     "output_type": "display_data"
    },
    {
     "data": {
      "application/vnd.jupyter.widget-view+json": {
       "model_id": "",
       "version_major": 2,
       "version_minor": 0
      },
      "text/plain": [
       "Validation: 0it [00:00, ?it/s]"
      ]
     },
     "metadata": {},
     "output_type": "display_data"
    },
    {
     "data": {
      "application/vnd.jupyter.widget-view+json": {
       "model_id": "",
       "version_major": 2,
       "version_minor": 0
      },
      "text/plain": [
       "Validation: 0it [00:00, ?it/s]"
      ]
     },
     "metadata": {},
     "output_type": "display_data"
    },
    {
     "data": {
      "application/vnd.jupyter.widget-view+json": {
       "model_id": "",
       "version_major": 2,
       "version_minor": 0
      },
      "text/plain": [
       "Validation: 0it [00:00, ?it/s]"
      ]
     },
     "metadata": {},
     "output_type": "display_data"
    },
    {
     "data": {
      "application/vnd.jupyter.widget-view+json": {
       "model_id": "",
       "version_major": 2,
       "version_minor": 0
      },
      "text/plain": [
       "Validation: 0it [00:00, ?it/s]"
      ]
     },
     "metadata": {},
     "output_type": "display_data"
    },
    {
     "data": {
      "application/vnd.jupyter.widget-view+json": {
       "model_id": "",
       "version_major": 2,
       "version_minor": 0
      },
      "text/plain": [
       "Validation: 0it [00:00, ?it/s]"
      ]
     },
     "metadata": {},
     "output_type": "display_data"
    },
    {
     "data": {
      "application/vnd.jupyter.widget-view+json": {
       "model_id": "",
       "version_major": 2,
       "version_minor": 0
      },
      "text/plain": [
       "Validation: 0it [00:00, ?it/s]"
      ]
     },
     "metadata": {},
     "output_type": "display_data"
    },
    {
     "data": {
      "application/vnd.jupyter.widget-view+json": {
       "model_id": "",
       "version_major": 2,
       "version_minor": 0
      },
      "text/plain": [
       "Validation: 0it [00:00, ?it/s]"
      ]
     },
     "metadata": {},
     "output_type": "display_data"
    },
    {
     "data": {
      "application/vnd.jupyter.widget-view+json": {
       "model_id": "",
       "version_major": 2,
       "version_minor": 0
      },
      "text/plain": [
       "Validation: 0it [00:00, ?it/s]"
      ]
     },
     "metadata": {},
     "output_type": "display_data"
    },
    {
     "data": {
      "application/vnd.jupyter.widget-view+json": {
       "model_id": "",
       "version_major": 2,
       "version_minor": 0
      },
      "text/plain": [
       "Validation: 0it [00:00, ?it/s]"
      ]
     },
     "metadata": {},
     "output_type": "display_data"
    },
    {
     "data": {
      "application/vnd.jupyter.widget-view+json": {
       "model_id": "",
       "version_major": 2,
       "version_minor": 0
      },
      "text/plain": [
       "Validation: 0it [00:00, ?it/s]"
      ]
     },
     "metadata": {},
     "output_type": "display_data"
    },
    {
     "data": {
      "application/vnd.jupyter.widget-view+json": {
       "model_id": "",
       "version_major": 2,
       "version_minor": 0
      },
      "text/plain": [
       "Validation: 0it [00:00, ?it/s]"
      ]
     },
     "metadata": {},
     "output_type": "display_data"
    },
    {
     "data": {
      "application/vnd.jupyter.widget-view+json": {
       "model_id": "",
       "version_major": 2,
       "version_minor": 0
      },
      "text/plain": [
       "Validation: 0it [00:00, ?it/s]"
      ]
     },
     "metadata": {},
     "output_type": "display_data"
    },
    {
     "data": {
      "application/vnd.jupyter.widget-view+json": {
       "model_id": "",
       "version_major": 2,
       "version_minor": 0
      },
      "text/plain": [
       "Validation: 0it [00:00, ?it/s]"
      ]
     },
     "metadata": {},
     "output_type": "display_data"
    },
    {
     "data": {
      "application/vnd.jupyter.widget-view+json": {
       "model_id": "",
       "version_major": 2,
       "version_minor": 0
      },
      "text/plain": [
       "Validation: 0it [00:00, ?it/s]"
      ]
     },
     "metadata": {},
     "output_type": "display_data"
    },
    {
     "data": {
      "application/vnd.jupyter.widget-view+json": {
       "model_id": "",
       "version_major": 2,
       "version_minor": 0
      },
      "text/plain": [
       "Validation: 0it [00:00, ?it/s]"
      ]
     },
     "metadata": {},
     "output_type": "display_data"
    }
   ],
   "source": [
    "hyper_params = {\n",
    "    \"gradient_clip_val\": 0.05130328983794089,\n",
    "    \"hidden_size\": 97,\n",
    "    \"dropout\": 0.20191453684086638,\n",
    "    \"hidden_continuous_size\": 61,\n",
    "    \"attention_head_size\": 2,\n",
    "    \"learning_rate\": 0.015631929305749356,\n",
    "    \"optimizer\": \"Ranger\"\n",
    "}\n",
    "\n",
    "trainer.train(**hyper_params)"
   ]
  },
  {
   "cell_type": "code",
   "execution_count": 7,
   "id": "61f1a5da-ce18-42bd-8a3c-64bdb6077a79",
   "metadata": {
    "tags": []
   },
   "outputs": [
    {
     "data": {
      "image/png": "[encoded data removed]",
      "text/plain": [
       "<Figure size 640x480 with 2 Axes>"
      ]
     },
     "metadata": {},
     "output_type": "display_data"
    },
    {
     "data": {
      "image/png": "[encoded data removed]",
      "text/plain": [
       "<Figure size 640x480 with 2 Axes>"
      ]
     },
     "metadata": {},
     "output_type": "display_data"
    }
   ],
   "source": [
    "from pytorch_forecasting import TemporalFusionTransformer\n",
    "\n",
    "best_model_path = trainer.trainer.checkpoint_callback.best_model_path\n",
    "best_tft = TemporalFusionTransformer.load_from_checkpoint(best_model_path)\n",
    "\n",
    "# best_tft = trainer.best_tft()\n",
    "raw_predictions = best_tft.predict(\n",
    "    trainer.val_dataloader,\n",
    "    mode=\"raw\",\n",
    "    return_x=True,\n",
    "    fast_dev_run=False\n",
    ")\n",
    "\n",
    "for k in range(len(raw_predictions[0][0])):\n",
    "    plt = best_tft.plot_prediction(\n",
    "        raw_predictions.x,\n",
    "        raw_predictions.output,\n",
    "        idx=k, add_loss_to_title=True\n",
    "    )\n",
    "    plt.legend()\n",
    "    plt.savefig(f\"./train_images/predict-{k}.png\", dpi=300)\n",
    "    plt.show()\n"
   ]
  },
  {
   "cell_type": "code",
   "execution_count": null,
   "id": "2dda45a0-ffc6-45a0-85ef-68dd66462309",
   "metadata": {},
   "outputs": [],
   "source": []
  },
  {
   "cell_type": "code",
   "execution_count": null,
   "id": "f3d93dd3-2a76-4173-818d-5b803fd1923c",
   "metadata": {},
   "outputs": [],
   "source": []
  },
  {
   "cell_type": "code",
   "execution_count": null,
   "id": "30ce88a0-11c6-4f47-a410-8a38bc4588da",
   "metadata": {},
   "outputs": [],
   "source": []
  }
 ],
 "metadata": {
  "kernelspec": {
   "display_name": "Python 3 (ipykernel)",
   "language": "python",
   "name": "python3"
  },
  "language_info": {
   "codemirror_mode": {
    "name": "ipython",
    "version": 3
   },
   "file_extension": ".py",
   "mimetype": "text/x-python",
   "name": "python",
   "nbconvert_exporter": "python",
   "pygments_lexer": "ipython3",
   "version": "3.9.16"
  }
 },
 "nbformat": 4,
 "nbformat_minor": 5
}
