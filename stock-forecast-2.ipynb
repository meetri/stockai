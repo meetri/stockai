{
 "cells": [
  {
   "cell_type": "code",
   "execution_count": 1,
   "metadata": {},
   "outputs": [],
   "source": [
    "# https://charlieoneill.medium.com/predicting-the-price-of-bitcoin-with-multivariate-pytorch-lstms-695bc294130\n",
    "\n",
    "import pandas as pd\n",
    "from sklearn.preprocessing import StandardScaler, MinMaxScaler\n",
    "import numpy as np\n",
    "import matplotlib.pyplot as plt\n",
    "from lib.predict import split_sequences\n"
   ]
  },
  {
   "cell_type": "code",
   "execution_count": 2,
   "metadata": {},
   "outputs": [],
   "source": [
    "class StockForecast:\n",
    "    \n",
    "    def __init__(self):\n",
    "        self.epochs = 1000\n",
    "        self.learning_rate = 0.001 # 0.001 lr\n",
    "\n",
    "        self.input_size = 4 # number of features\n",
    "        self.hidden_size = 2 # number of features in hidden state\n",
    "        self.num_layers = 1 # number of stacked lstm layers\n",
    "        self.num_classes = 50 # number of output classes \n",
    "        \n",
    "        self.num_sequences = 100\n",
    "        self.num_predictions = 50\n",
    "        \n",
    "        self.raw_data = None\n",
    "        self.mm = MinMaxScaler()\n",
    "        self.ss = StandardScaler()\n",
    "\n",
    "    def load_data(self, fn: str):\n",
    "        self.raw_data = pd.read_csv('spydata.csv', index_col = 'Date', parse_dates=True)\n",
    "        self.raw_data(columns=['Adj Close'], inplace=True)\n",
    "        \n",
    "    def normalize_data(self):\n",
    "        # X contains all columns except `Close`\n",
    "        # Y contains only `Close`\n",
    "        X, y = df.drop(columns=['Close']), df.Close.values.reshape(-1, 1)    \n",
    "\n",
    "        X_trans = ss.fit_transform(X)\n",
    "        y_trans = mm.fit_transform(y)\n",
    "        \n",
    "        n_in = 100\n",
    "        n_out = 50\n",
    "\n",
    "        X_ss, y_mm = split_sequences(X_trans, y_trans, n_in, n_out)\n",
    "        "
   ]
  },
  {
   "cell_type": "code",
   "execution_count": null,
   "metadata": {},
   "outputs": [],
   "source": []
  },
  {
   "cell_type": "code",
   "execution_count": null,
   "metadata": {},
   "outputs": [],
   "source": [
    "# split a multivariate sequence past, future samples (X and y)\n",
    "def split_sequences(input_sequences, output_sequence, n_steps_in, n_steps_out):\n",
    "    X, y = list(), list() # instantiate X and y\n",
    "    for i in range(len(input_sequences)):\n",
    "        # find the end of the input, output sequence\n",
    "        end_ix = i + n_steps_in\n",
    "        out_end_ix = end_ix + n_steps_out - 1\n",
    "        # check if we are beyond the dataset\n",
    "        if out_end_ix > len(input_sequences): break\n",
    "        # gather input and output of the pattern\n",
    "        seq_x, seq_y = input_sequences[i:end_ix], output_sequence[end_ix-1:out_end_ix, -1]\n",
    "        X.append(seq_x), y.append(seq_y)\n",
    "    return np.array(X), np.array(y)"
   ]
  },
  {
   "cell_type": "code",
   "execution_count": null,
   "metadata": {},
   "outputs": [],
   "source": [
    "df = pd.read_csv('spydata.csv', index_col = 'Date', parse_dates=True)\n",
    "df.drop(columns=['Adj Close'], inplace=True)\n",
    "df.head(5)"
   ]
  },
  {
   "cell_type": "code",
   "execution_count": null,
   "metadata": {},
   "outputs": [],
   "source": [
    "plt.plot(df.Close)\n",
    "plt.xlabel(\"Time\")\n",
    "plt.ylabel(\"Price (USD)\")\n",
    "plt.title(\"SPY price over time\")\n",
    "\n",
    "plt.savefig(\"initial_plot.png\", dpi=300)\n",
    "plt.show();"
   ]
  },
  {
   "cell_type": "code",
   "execution_count": null,
   "metadata": {},
   "outputs": [],
   "source": [
    "X, y = df.drop(columns=['Close']), df.Close.values.reshape(-1, 1)\n",
    "X.shape, y.shape"
   ]
  },
  {
   "cell_type": "code",
   "execution_count": null,
   "metadata": {},
   "outputs": [],
   "source": [
    "from sklearn.preprocessing import StandardScaler, MinMaxScaler\n",
    "mm = MinMaxScaler()\n",
    "ss = StandardScaler()\n",
    "\n",
    "X_trans = ss.fit_transform(X)\n",
    "y_trans = mm.fit_transform(y)"
   ]
  },
  {
   "cell_type": "code",
   "execution_count": null,
   "metadata": {},
   "outputs": [],
   "source": [
    "n_in = 100\n",
    "n_out = 50\n",
    "\n",
    "X_ss, y_mm = split_sequences(X_trans, y_trans, n_in, n_out)\n",
    "print(X_ss.shape, y_mm.shape)"
   ]
  },
  {
   "cell_type": "code",
   "execution_count": null,
   "metadata": {},
   "outputs": [],
   "source": [
    "total_samples = len(X)\n",
    "train_test_cutoff = round(0.90 * total_samples)\n",
    "test_samples = total_samples - train_test_cutoff\n",
    "\n",
    "X_train = X_ss[:-test_samples]\n",
    "X_test = X_ss[-test_samples:]\n",
    "\n",
    "y_train = y_mm[:-test_samples]\n",
    "y_test = y_mm[-test_samples:] \n",
    "\n",
    "print(\"Training Shape:\", X_train.shape, y_train.shape)\n",
    "print(\"Testing Shape:\", X_test.shape, y_test.shape) "
   ]
  },
  {
   "cell_type": "code",
   "execution_count": null,
   "metadata": {},
   "outputs": [],
   "source": [
    "import torch\n",
    "import torch.nn as nn\n",
    "from torch.autograd import Variable\n",
    "\n",
    "# convert to pytorch tensors\n",
    "X_train_tensors = Variable(torch.Tensor(X_train))\n",
    "X_test_tensors = Variable(torch.Tensor(X_test))\n",
    "\n",
    "y_train_tensors = Variable(torch.Tensor(y_train))\n",
    "y_test_tensors = Variable(torch.Tensor(y_test))"
   ]
  },
  {
   "cell_type": "code",
   "execution_count": null,
   "metadata": {},
   "outputs": [],
   "source": [
    "class LSTM(nn.Module):\n",
    "    \n",
    "    def __init__(self, num_classes, input_size, hidden_size, num_layers):\n",
    "        super().__init__()\n",
    "        self.num_classes = num_classes # output size\n",
    "        self.num_layers = num_layers # number of recurrent layers in the lstm\n",
    "        self.input_size = input_size # input size\n",
    "        self.hidden_size = hidden_size # neurons in each lstm layer\n",
    "        # LSTM model\n",
    "        self.lstm = nn.LSTM(input_size=input_size, hidden_size=hidden_size,\n",
    "                            num_layers=num_layers, batch_first=True ) # , dropout=0.2) # lstm\n",
    "        self.fc_1 =  nn.Linear(hidden_size, 128) # fully connected \n",
    "        self.fc_2 = nn.Linear(128, num_classes) # fully connected last layer\n",
    "        self.relu = nn.ReLU()\n",
    "        \n",
    "    def forward(self,x):\n",
    "        # hidden state\n",
    "        h_0 = Variable(torch.zeros(self.num_layers, x.size(0), self.hidden_size))\n",
    "        # cell state\n",
    "        c_0 = Variable(torch.zeros(self.num_layers, x.size(0), self.hidden_size))\n",
    "        # propagate input through LSTM\n",
    "        output, (hn, cn) = self.lstm(x, (h_0, c_0)) # (input, hidden, and internal state)\n",
    "        hn = hn.view(-1, self.hidden_size) # reshaping the data for Dense layer next\n",
    "        out = self.relu(hn)\n",
    "        out = self.fc_1(out) # first dense\n",
    "        out = self.relu(out) # relu\n",
    "        out = self.fc_2(out) # final output\n",
    "        return out"
   ]
  },
  {
   "cell_type": "code",
   "execution_count": null,
   "metadata": {},
   "outputs": [],
   "source": [
    "n_epochs = 1000 # 1000 epochs\n",
    "learning_rate = 0.001 # 0.001 lr\n",
    "\n",
    "input_size = 4 # number of features\n",
    "hidden_size = 2 # number of features in hidden state\n",
    "num_layers = 1 # number of stacked lstm layers\n",
    "\n",
    "num_classes = 50 # number of output classes \n",
    "\n",
    "lstm = LSTM(num_classes, \n",
    "              input_size, \n",
    "              hidden_size, \n",
    "              num_layers)"
   ]
  },
  {
   "cell_type": "code",
   "execution_count": null,
   "metadata": {},
   "outputs": [],
   "source": [
    "def training_loop(n_epochs, lstm, optimiser, loss_fn, X_train, y_train,\n",
    "                  X_test, y_test):\n",
    "    for epoch in range(n_epochs):\n",
    "        lstm.train()\n",
    "        outputs = lstm.forward(X_train) # forward pass\n",
    "        optimiser.zero_grad() # calculate the gradient, manually setting to 0\n",
    "        # obtain the loss function\n",
    "        loss = loss_fn(outputs, y_train)\n",
    "        loss.backward() # calculates the loss of the loss function\n",
    "        optimiser.step() # improve from loss, i.e backprop\n",
    "        # test loss\n",
    "        lstm.eval()\n",
    "        test_preds = lstm(X_test)\n",
    "        test_loss = loss_fn(test_preds, y_test)\n",
    "        if epoch % 100 == 0:\n",
    "            print(\"Epoch: %d, train loss: %1.5f, test loss: %1.5f\" % (epoch, \n",
    "                                                                      loss.item(), \n",
    "                                                                      test_loss.item())) "
   ]
  },
  {
   "cell_type": "code",
   "execution_count": null,
   "metadata": {},
   "outputs": [],
   "source": [
    "loss_fn = torch.nn.MSELoss()    # mean-squared error for regression\n",
    "optimiser = torch.optim.Adam(lstm.parameters(), lr=learning_rate)"
   ]
  },
  {
   "cell_type": "code",
   "execution_count": null,
   "metadata": {},
   "outputs": [],
   "source": [
    "X_train_tensors_final = torch.reshape(X_train_tensors,   \n",
    "                                      (X_train_tensors.shape[0], 100, \n",
    "                                       X_train_tensors.shape[2]))\n",
    "X_test_tensors_final = torch.reshape(X_test_tensors,  \n",
    "                                     (X_test_tensors.shape[0], 100, \n",
    "                                      X_test_tensors.shape[2])) \n",
    "\n",
    "# X_train_tensors_final = torch.reshape(X_train_tensors,   (X_train_tensors.shape[0], 1, X_train_tensors.shape[1]))\n",
    "# X_test_tensors_final = torch.reshape(X_test_tensors,  (X_test_tensors.shape[0], 1, X_test_tensors.shape[1])) \n",
    "\n",
    "print(\"Training Shape:\", X_train_tensors_final.shape, y_train_tensors.shape)\n",
    "print(\"Testing Shape:\", X_test_tensors_final.shape, y_test_tensors.shape) "
   ]
  },
  {
   "cell_type": "code",
   "execution_count": null,
   "metadata": {},
   "outputs": [],
   "source": [
    "training_loop(\n",
    "    n_epochs=n_epochs,\n",
    "    lstm=lstm,\n",
    "    optimiser=optimiser,\n",
    "    loss_fn=loss_fn,\n",
    "    X_train=X_train_tensors_final,\n",
    "    y_train=y_train_tensors,\n",
    "    X_test=X_test_tensors_final,\n",
    "    y_test=y_test_tensors\n",
    ")"
   ]
  },
  {
   "cell_type": "code",
   "execution_count": null,
   "metadata": {},
   "outputs": [],
   "source": [
    "df_X_ss = ss.transform(df.drop(columns=['Close'])) # old transformers\n",
    "df_y_mm = mm.transform(df.Close.values.reshape(-1, 1)) # old transformers\n",
    "\n",
    "# split the sequence\n",
    "df_X_ss, df_y_mm = split_sequences(df_X_ss, df_y_mm, 100, 50)\n",
    "\n",
    "# converting to tensors\n",
    "df_X_ss = Variable(torch.Tensor(df_X_ss))\n",
    "df_y_mm = Variable(torch.Tensor(df_y_mm))\n",
    "\n",
    "# reshaping the dataset\n",
    "df_X_ss = torch.reshape(df_X_ss, (df_X_ss.shape[0], 100, df_X_ss.shape[2]))\n",
    "\n",
    "train_predict = lstm(df_X_ss) # forward pass\n",
    "data_predict = train_predict.data.numpy() # numpy conversion\n",
    "dataY_plot = df_y_mm.data.numpy()\n",
    "\n",
    "data_predict = mm.inverse_transform(data_predict) # reverse transformation\n",
    "dataY_plot = mm.inverse_transform(dataY_plot)\n",
    "\n",
    "true = dataY_plot[:,0]\n",
    "preds = data_predict[:,0]\n",
    "\n",
    "plt.figure(figsize=(15,6)) #plotting\n",
    "plt.axvline(x=train_test_cutoff, c='r', linestyle='--') # size of the training set\n",
    "\n",
    "plt.plot(true, label='Actual Data') # actual plot\n",
    "plt.plot(preds, label='Predicted Data') # predicted plot\n",
    "plt.title('Time-Series Prediction')\n",
    "plt.legend()\n",
    "plt.savefig(\"whole_plot.png\", dpi=300)\n",
    "plt.show() "
   ]
  },
  {
   "cell_type": "code",
   "execution_count": null,
   "metadata": {},
   "outputs": [],
   "source": [
    "test_predict = lstm(X_test_tensors_final[-1].unsqueeze(0)) # get the last sample\n",
    "test_predict = test_predict.detach().numpy()\n",
    "test_predict = mm.inverse_transform(test_predict)\n",
    "test_predict = test_predict[0].tolist()\n",
    "\n",
    "test_target = y_test_tensors[-1].detach().numpy() # last sample again\n",
    "test_target = mm.inverse_transform(test_target.reshape(1, -1))\n",
    "test_target = test_target[0].tolist()\n",
    "\n",
    "plt.plot(test_target, label=\"Actual Data\")\n",
    "# plt.plot(test_predict, label=\"LSTM Predictions\")\n",
    "plt.savefig(\"small_plot.png\", dpi=300)\n",
    "plt.show();"
   ]
  },
  {
   "cell_type": "code",
   "execution_count": null,
   "metadata": {},
   "outputs": [],
   "source": [
    "y_test_tensors[0,]"
   ]
  },
  {
   "cell_type": "code",
   "execution_count": null,
   "metadata": {},
   "outputs": [],
   "source": [
    "plt.figure(figsize=(10,6)) #plotting\n",
    "a = [x for x in range(1500, len(y))]\n",
    "plt.plot(a, y[1500:], label='Actual data');\n",
    "c = [x for x in range(len(y)-50, len(y))]\n",
    "plt.plot(c, test_predict, label='One-shot multi-step prediction (50 days)')\n",
    "plt.axvline(x=len(y)-50, c='r', linestyle='--')\n",
    "plt.legend()\n",
    "plt.show()"
   ]
  },
  {
   "cell_type": "code",
   "execution_count": null,
   "metadata": {},
   "outputs": [],
   "source": [
    "df_X_ss = ss.transform(df.drop(columns=['Close'])) # old transformers\n",
    "df_y_mm = mm.transform(df.Close.values.reshape(-1, 1)) # old transformers\n",
    "\n",
    "# split the sequence\n",
    "df_X_ss, df_y_mm = split_sequences(df_X_ss, df_y_mm, 100, 50)\n",
    "\n",
    "# converting to tensors\n",
    "df_X_ss = Variable(torch.Tensor(df_X_ss))\n",
    "df_y_mm = Variable(torch.Tensor(df_y_mm))\n",
    "\n",
    "# reshaping the dataset\n",
    "df_X_ss = torch.reshape(df_X_ss, (df_X_ss.shape[0], 100, df_X_ss.shape[2]))\n",
    "\n",
    "train_predict = lstm(df_X_ss)#forward pass\n",
    "data_predict = train_predict.data.numpy() #numpy conversion\n",
    "dataY_plot = df_y_mm.data.numpy()\n",
    "\n",
    "data_predict = mm.inverse_transform(data_predict) #reverse transformation\n",
    "dataY_plot = mm.inverse_transform(dataY_plot)\n",
    "plt.figure(figsize=(10,6)) #plotting\n",
    "plt.axvline(x=200, c='r', linestyle='--') #size of the training set\n",
    "\n",
    "plt.plot(dataY_plot[:,0], label='Actuall Data') #actual plot\n",
    "plt.plot(data_predict[:,0], label='Predicted Data') #predicted plot\n",
    "plt.title('Time-Series Prediction')\n",
    "plt.legend()\n",
    "plt.show() "
   ]
  },
  {
   "cell_type": "code",
   "execution_count": null,
   "metadata": {},
   "outputs": [],
   "source": []
  }
 ],
 "metadata": {
  "kernelspec": {
   "display_name": "Python 3 (ipykernel)",
   "language": "python",
   "name": "python3"
  },
  "language_info": {
   "codemirror_mode": {
    "name": "ipython",
    "version": 3
   },
   "file_extension": ".py",
   "mimetype": "text/x-python",
   "name": "python",
   "nbconvert_exporter": "python",
   "pygments_lexer": "ipython3",
   "version": "3.9.16"
  }
 },
 "nbformat": 4,
 "nbformat_minor": 4
}
